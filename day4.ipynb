{
 "cells": [
  {
   "cell_type": "code",
   "execution_count": 1,
   "id": "ac22a984-8440-451c-b014-23e41fa45d76",
   "metadata": {},
   "outputs": [
    {
     "data": {
      "text/plain": [
       "[40, 20, 80, 50, 30, 60, 90]"
      ]
     },
     "execution_count": 1,
     "metadata": {},
     "output_type": "execute_result"
    }
   ],
   "source": [
    "dollars=[40,20,80,50,30,60,90]\n",
    "dollars"
   ]
  },
  {
   "cell_type": "code",
   "execution_count": 2,
   "id": "a1df7a91-2a88-44f5-99cc-dc90483d6c51",
   "metadata": {
    "scrolled": true
   },
   "outputs": [
    {
     "name": "stdout",
     "output_type": "stream",
     "text": [
      "3400\n",
      "1700\n",
      "6800\n",
      "4250\n",
      "2550\n",
      "5100\n",
      "7650\n"
     ]
    }
   ],
   "source": [
    "for i in dollars:\n",
    "    print(i*85)"
   ]
  },
  {
   "cell_type": "code",
   "execution_count": 3,
   "id": "e2571f22-2379-4383-8bd9-573e0b48f14b",
   "metadata": {},
   "outputs": [],
   "source": [
    "inr=[]\n",
    "for i in dollars:\n",
    "    inr.append(i*85)"
   ]
  },
  {
   "cell_type": "code",
   "execution_count": 4,
   "id": "0363f746-f279-493f-9cd4-54c20d849f44",
   "metadata": {},
   "outputs": [
    {
     "data": {
      "text/plain": [
       "[3400, 1700, 6800, 4250, 2550, 5100, 7650]"
      ]
     },
     "execution_count": 4,
     "metadata": {},
     "output_type": "execute_result"
    }
   ],
   "source": [
    "inr"
   ]
  },
  {
   "cell_type": "code",
   "execution_count": 6,
   "id": "09e445b1-6868-4d88-8e62-7f0371611f89",
   "metadata": {},
   "outputs": [
    {
     "data": {
      "text/plain": [
       "[31, 45, 66, 33, 90, 78, 67, 87, 89, 93, 25, 59, 9, 81]"
      ]
     },
     "execution_count": 6,
     "metadata": {},
     "output_type": "execute_result"
    }
   ],
   "source": [
    "num=[31,45,66,33,90,78,67,87,89,93,25,59,9,81]\n",
    "num"
   ]
  },
  {
   "cell_type": "code",
   "execution_count": 8,
   "id": "88dda19e-26e7-4f59-8e9f-55322a9c76f1",
   "metadata": {},
   "outputs": [],
   "source": [
    "j=[]\n",
    "k=[]\n",
    "for i in num:\n",
    "    if i%2==0:\n",
    "        j.append(i)\n",
    "    else:\n",
    "        k.append(i)"
   ]
  },
  {
   "cell_type": "code",
   "execution_count": 9,
   "id": "ed842ce0-e077-45e9-8468-ec4855e45682",
   "metadata": {},
   "outputs": [
    {
     "data": {
      "text/plain": [
       "[66, 90, 78]"
      ]
     },
     "execution_count": 9,
     "metadata": {},
     "output_type": "execute_result"
    }
   ],
   "source": [
    "j"
   ]
  },
  {
   "cell_type": "code",
   "execution_count": 10,
   "id": "d6fe924e-1b0f-4a0d-bfc8-2e6091301b7a",
   "metadata": {},
   "outputs": [
    {
     "data": {
      "text/plain": [
       "[31, 45, 33, 67, 87, 89, 93, 25, 59, 9, 81]"
      ]
     },
     "execution_count": 10,
     "metadata": {},
     "output_type": "execute_result"
    }
   ],
   "source": [
    "k"
   ]
  },
  {
   "cell_type": "code",
   "execution_count": 13,
   "id": "bfd6944c-4521-4dee-94ad-fdbbff64d2eb",
   "metadata": {},
   "outputs": [
    {
     "data": {
      "text/plain": [
       "[39, 45, 66, 93, 90, 78, 67, 87, 89, 93, 25, 59, 49, 91]"
      ]
     },
     "execution_count": 13,
     "metadata": {},
     "output_type": "execute_result"
    }
   ],
   "source": [
    "num=[39,45,66,93,90,78,67,87,89,93,25,59,49,91]\n",
    "num"
   ]
  },
  {
   "cell_type": "code",
   "execution_count": 15,
   "id": "ca7b5be3-0043-4479-853e-1aaceabb5712",
   "metadata": {},
   "outputs": [
    {
     "name": "stdout",
     "output_type": "stream",
     "text": [
      "[39]\n",
      "[39, 45]\n",
      "[39, 45, 66]\n",
      "[39, 45, 66, 93]\n",
      "[39, 45, 66, 93, 90]\n",
      "[39, 45, 66, 93, 90, 75]\n",
      "[39, 45, 66, 93, 90, 75, 67]\n",
      "[39, 45, 66, 93, 90, 75, 67, 57]\n",
      "[39, 45, 66, 93, 90, 75, 67, 57, 59]\n",
      "[39, 45, 66, 93, 90, 75, 67, 57, 59, 93]\n",
      "[39, 45, 66, 93, 90, 75, 67, 57, 59, 93, 25]\n",
      "[39, 45, 66, 93, 90, 75, 67, 57, 59, 93, 25, 59]\n",
      "[39, 45, 66, 93, 90, 75, 67, 57, 59, 93, 25, 59, 49]\n",
      "[39, 45, 66, 93, 90, 75, 67, 57, 59, 93, 25, 59, 49, 91]\n"
     ]
    }
   ],
   "source": [
    "h=[]\n",
    "for i in num:\n",
    "    a=str(i)\n",
    "    b=a.replace('8','5')\n",
    "    c=int(b)\n",
    "    h.append(c)\n",
    "    print(h)"
   ]
  },
  {
   "cell_type": "code",
   "execution_count": null,
   "id": "2cca02d9-8654-49fa-9e16-ae270686a250",
   "metadata": {},
   "outputs": [],
   "source": []
  }
 ],
 "metadata": {
  "kernelspec": {
   "display_name": "Python 3 (ipykernel)",
   "language": "python",
   "name": "python3"
  },
  "language_info": {
   "codemirror_mode": {
    "name": "ipython",
    "version": 3
   },
   "file_extension": ".py",
   "mimetype": "text/x-python",
   "name": "python",
   "nbconvert_exporter": "python",
   "pygments_lexer": "ipython3",
   "version": "3.12.7"
  }
 },
 "nbformat": 4,
 "nbformat_minor": 5
}
