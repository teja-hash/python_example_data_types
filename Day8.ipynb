{
 "cells": [
  {
   "cell_type": "code",
   "execution_count": 3,
   "id": "0ce0d953-208d-438a-9e8e-82d333fca6a5",
   "metadata": {},
   "outputs": [
    {
     "data": {
      "text/plain": [
       "'Malla Reddy 2025'"
      ]
     },
     "execution_count": 3,
     "metadata": {},
     "output_type": "execute_result"
    }
   ],
   "source": [
    "y='Malla Reddy 2025'\n",
    "y"
   ]
  },
  {
   "cell_type": "code",
   "execution_count": 5,
   "id": "cea2f479-0e17-46be-9108-a44fd6ab6f31",
   "metadata": {},
   "outputs": [
    {
     "data": {
      "text/plain": [
       "16"
      ]
     },
     "execution_count": 5,
     "metadata": {},
     "output_type": "execute_result"
    }
   ],
   "source": [
    "len(y)"
   ]
  },
  {
   "cell_type": "code",
   "execution_count": 7,
   "id": "88fa37a5-5eb6-4d59-b582-a7bbc10093cb",
   "metadata": {},
   "outputs": [
    {
     "data": {
      "text/plain": [
       "2"
      ]
     },
     "execution_count": 7,
     "metadata": {},
     "output_type": "execute_result"
    }
   ],
   "source": [
    "y.count('a')"
   ]
  },
  {
   "cell_type": "markdown",
   "id": "2886ed8d-6f46-4097-a5d9-1a39b02bc0b6",
   "metadata": {},
   "source": [
    "def functionname(parameter):\n",
    "    block of code\n",
    "    return output"
   ]
  },
  {
   "cell_type": "code",
   "execution_count": 12,
   "id": "9b7f70e9-0a64-4f44-837c-1d1c0183063d",
   "metadata": {},
   "outputs": [],
   "source": [
    "def calArea(r):\n",
    "    a=3.14*r*r\n",
    "    return a"
   ]
  },
  {
   "cell_type": "code",
   "execution_count": 13,
   "id": "6b69c970-2e19-46f3-b32d-861a1d265253",
   "metadata": {},
   "outputs": [
    {
     "data": {
      "text/plain": [
       "314.0"
      ]
     },
     "execution_count": 13,
     "metadata": {},
     "output_type": "execute_result"
    }
   ],
   "source": [
    "calArea(r=10)"
   ]
  },
  {
   "cell_type": "code",
   "execution_count": 14,
   "id": "49c62c37-bc0c-488e-afaf-9983b913023c",
   "metadata": {},
   "outputs": [
    {
     "data": {
      "text/plain": [
       "314.0"
      ]
     },
     "execution_count": 14,
     "metadata": {},
     "output_type": "execute_result"
    }
   ],
   "source": [
    "w=calArea(r=10)\n",
    "w"
   ]
  },
  {
   "cell_type": "code",
   "execution_count": 15,
   "id": "c688e3e0-9825-4201-8772-9bf45cb2881a",
   "metadata": {},
   "outputs": [
    {
     "data": {
      "text/plain": [
       "float"
      ]
     },
     "execution_count": 15,
     "metadata": {},
     "output_type": "execute_result"
    }
   ],
   "source": [
    "type(w)"
   ]
  },
  {
   "cell_type": "code",
   "execution_count": 16,
   "id": "b1e3bc9f-7d2d-404c-b0b3-955542785be2",
   "metadata": {},
   "outputs": [
    {
     "data": {
      "text/plain": [
       "123.45"
      ]
     },
     "execution_count": 16,
     "metadata": {},
     "output_type": "execute_result"
    }
   ],
   "source": [
    "a=123.45\n",
    "a"
   ]
  },
  {
   "cell_type": "code",
   "execution_count": 17,
   "id": "61007df3-f8d7-4aa1-88f8-d0e447b88ef3",
   "metadata": {},
   "outputs": [
    {
     "data": {
      "text/plain": [
       "133.45"
      ]
     },
     "execution_count": 17,
     "metadata": {},
     "output_type": "execute_result"
    }
   ],
   "source": [
    "a+10"
   ]
  },
  {
   "cell_type": "code",
   "execution_count": 18,
   "id": "477e08b9-9ccb-4c8e-9480-8fe418e3c7b7",
   "metadata": {},
   "outputs": [
    {
     "name": "stdout",
     "output_type": "stream",
     "text": [
      "India\n"
     ]
    }
   ],
   "source": [
    "a=print('India')\n",
    "a"
   ]
  },
  {
   "cell_type": "code",
   "execution_count": 21,
   "id": "86532a6a-3fd7-44e9-9854-f7efb1ecbd04",
   "metadata": {},
   "outputs": [
    {
     "data": {
      "text/plain": [
       "NoneType"
      ]
     },
     "execution_count": 21,
     "metadata": {},
     "output_type": "execute_result"
    }
   ],
   "source": [
    "type(a)"
   ]
  },
  {
   "cell_type": "code",
   "execution_count": 24,
   "id": "645a04f1-68d9-421a-a194-76187647f7e0",
   "metadata": {},
   "outputs": [],
   "source": [
    "def aor(l,w):\n",
    "    area=l*w\n",
    "    return area"
   ]
  },
  {
   "cell_type": "code",
   "execution_count": 25,
   "id": "facc59bc-8c37-4b95-a347-03d6f793d81e",
   "metadata": {},
   "outputs": [
    {
     "data": {
      "text/plain": [
       "50"
      ]
     },
     "execution_count": 25,
     "metadata": {},
     "output_type": "execute_result"
    }
   ],
   "source": [
    "aor(w=5,l=10)"
   ]
  },
  {
   "cell_type": "code",
   "execution_count": 26,
   "id": "ff3a6831-3899-45ee-81ca-fa14916e9ee8",
   "metadata": {},
   "outputs": [
    {
     "data": {
      "text/plain": [
       "50"
      ]
     },
     "execution_count": 26,
     "metadata": {},
     "output_type": "execute_result"
    }
   ],
   "source": [
    "aor(l=10,w=5)"
   ]
  },
  {
   "cell_type": "code",
   "execution_count": 28,
   "id": "c7d9f6c1-2781-47d0-b597-ad73f98de576",
   "metadata": {},
   "outputs": [
    {
     "data": {
      "text/plain": [
       "30"
      ]
     },
     "execution_count": 28,
     "metadata": {},
     "output_type": "execute_result"
    }
   ],
   "source": [
    "aor(l=5,w=6)"
   ]
  },
  {
   "cell_type": "code",
   "execution_count": 29,
   "id": "6a8c58f3-dd3b-4a34-b22a-645df13791a8",
   "metadata": {},
   "outputs": [],
   "source": [
    "def area(rad,length,width):\n",
    "    aoc=3.45*rad*rad\n",
    "    aor=length*width\n",
    "    return {aoc,aor}"
   ]
  },
  {
   "cell_type": "code",
   "execution_count": 30,
   "id": "e3a95f9e-a61e-44b0-92d4-847ee9112fe7",
   "metadata": {},
   "outputs": [],
   "source": [
    "a=area(rad=10,length=20,width=5)\n"
   ]
  },
  {
   "cell_type": "code",
   "execution_count": 31,
   "id": "9b35f24f-c090-48d8-82d4-40e1d39dc29d",
   "metadata": {},
   "outputs": [
    {
     "data": {
      "text/plain": [
       "{100, 345.0}"
      ]
     },
     "execution_count": 31,
     "metadata": {},
     "output_type": "execute_result"
    }
   ],
   "source": [
    "a"
   ]
  },
  {
   "cell_type": "code",
   "execution_count": 32,
   "id": "cbbe891e-72f7-4121-9e09-abf713eb8eee",
   "metadata": {},
   "outputs": [],
   "source": [
    "def area(rad,length,width):\n",
    "    aoc=3.45*rad*rad\n",
    "    aor=length*width\n",
    "    return {'Area of circle',aoc,'area of rectangle',aor}"
   ]
  },
  {
   "cell_type": "code",
   "execution_count": 33,
   "id": "2b6b6248-f4d1-465b-891d-b3149c4867d5",
   "metadata": {},
   "outputs": [],
   "source": [
    "a=area(rad=10,length=20,width=5)\n"
   ]
  },
  {
   "cell_type": "code",
   "execution_count": 34,
   "id": "1f97aa63-d95d-4d1a-8998-996ccee4dfeb",
   "metadata": {},
   "outputs": [
    {
     "data": {
      "text/plain": [
       "{100, 345.0, 'Area of circle', 'area of rectangle'}"
      ]
     },
     "execution_count": 34,
     "metadata": {},
     "output_type": "execute_result"
    }
   ],
   "source": [
    "a"
   ]
  },
  {
   "cell_type": "code",
   "execution_count": 35,
   "id": "a6387ada-fe68-416c-965c-e00ee3efdc94",
   "metadata": {},
   "outputs": [],
   "source": [
    "t='Hyb 500008 Telangana'"
   ]
  },
  {
   "cell_type": "code",
   "execution_count": 36,
   "id": "43910743-ceb6-4dff-ab63-47bf037358bb",
   "metadata": {},
   "outputs": [
    {
     "data": {
      "text/plain": [
       "'Hyb 500008 Telangana'"
      ]
     },
     "execution_count": 36,
     "metadata": {},
     "output_type": "execute_result"
    }
   ],
   "source": [
    "t"
   ]
  },
  {
   "cell_type": "code",
   "execution_count": 37,
   "id": "47ee8127-9498-4014-9167-3d23f11f0e0d",
   "metadata": {},
   "outputs": [],
   "source": [
    "def countA(x):\n",
    "    d=x.lower()\n",
    "    return d.count('a')\n"
   ]
  },
  {
   "cell_type": "code",
   "execution_count": 38,
   "id": "9c16a13d-03a8-4ae4-bc3e-5fcf2433cbec",
   "metadata": {},
   "outputs": [],
   "source": [
    "def count_num_alpha(x):\n",
    "    c=0\n",
    "    d=0\n",
    "    for i in x:\n",
    "        if i.isalpha():\n",
    "            c+=1\n",
    "        elif i.isnumeric():\n",
    "            d+=1\n",
    "    return {'Number of alphabets':c,'Number of digits':d}"
   ]
  },
  {
   "cell_type": "code",
   "execution_count": null,
   "id": "81e18855-61f5-43fb-a714-1b0c77fae825",
   "metadata": {},
   "outputs": [],
   "source": []
  }
 ],
 "metadata": {
  "kernelspec": {
   "display_name": "Python 3 (ipykernel)",
   "language": "python",
   "name": "python3"
  },
  "language_info": {
   "codemirror_mode": {
    "name": "ipython",
    "version": 3
   },
   "file_extension": ".py",
   "mimetype": "text/x-python",
   "name": "python",
   "nbconvert_exporter": "python",
   "pygments_lexer": "ipython3",
   "version": "3.12.7"
  }
 },
 "nbformat": 4,
 "nbformat_minor": 5
}
